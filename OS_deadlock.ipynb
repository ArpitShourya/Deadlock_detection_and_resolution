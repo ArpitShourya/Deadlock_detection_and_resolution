{
  "nbformat": 4,
  "nbformat_minor": 0,
  "metadata": {
    "colab": {
      "provenance": [],
      "authorship_tag": "ABX9TyNMk5d3tJdbPSZ+DEUdDIfv",
      "include_colab_link": true
    },
    "kernelspec": {
      "name": "python3",
      "display_name": "Python 3"
    },
    "language_info": {
      "name": "python"
    }
  },
  "cells": [
    {
      "cell_type": "markdown",
      "metadata": {
        "id": "view-in-github",
        "colab_type": "text"
      },
      "source": [
        "<a href=\"https://colab.research.google.com/github/ArpitShourya/Deadlock_detection_and_resolution/blob/main/OS_deadlock.ipynb\" target=\"_parent\"><img src=\"https://colab.research.google.com/assets/colab-badge.svg\" alt=\"Open In Colab\"/></a>"
      ]
    },
    {
      "cell_type": "code",
      "execution_count": 1,
      "metadata": {
        "id": "x8zHsMQw6iYZ"
      },
      "outputs": [],
      "source": [
        "import numpy as np\n",
        "import matplotlib\n",
        "matplotlib.use('Agg')\n",
        "def displayMatrices(allocation: np.ndarray, request: np.ndarray, n: int, m: int) -> None:\n",
        "    print(\"\\nAllocation Matrix:\\n\")\n",
        "    for i in range(n):\n",
        "        for j in range(m):\n",
        "            print(allocation[i][j], end=\" \")\n",
        "        print()\n",
        "    print(\"\\nRequest Matrix:\\n\")\n",
        "    for i in range(n):\n",
        "        for j in range(m):\n",
        "            print(request[i][j], end=\" \")\n",
        "        print()"
      ]
    },
    {
      "cell_type": "code",
      "source": [
        "def findSafeSeq(N, M, allocation, request, available):\n",
        "    finished = [False] * N\n",
        "    work = available.copy()\n",
        "    safeSeq = [0] * N\n",
        "    count = 0\n",
        "    while count < N:\n",
        "        found = False\n",
        "        for i in range(N):\n",
        "            if not finished[i]:\n",
        "                canFinish = True\n",
        "                for j in range(M):\n",
        "                    if request[i][j] > work[j]:\n",
        "                        canFinish = False\n",
        "                        break\n",
        "                if canFinish:\n",
        "                    for j in range(M):\n",
        "                        work[j] += allocation[i][j]\n",
        "                    safeSeq[count] = i\n",
        "                    count += 1\n",
        "                    finished[i] = True\n",
        "                    found = True\n",
        "        if not found:\n",
        "            return False\n",
        "    print(\"Safe sequence found: \", end=\"\")\n",
        "    for i in range(N):\n",
        "        print(safeSeq[i], end=\" \")\n",
        "    return True"
      ],
      "metadata": {
        "id": "fZP6v-kC6qb1"
      },
      "execution_count": 2,
      "outputs": []
    },
    {
      "cell_type": "code",
      "source": [
        "def resolveDeadlock(N, M, allocation, request, available):\n",
        "    global least_request_process\n",
        "    global capable_process\n",
        "    completion = False\n",
        "    sum_request = [sum(request[i]) for i in range(N)]\n",
        "    sum_process = [sum(allocation[i]) for i in range(N)]\n",
        "    if not completion:\n",
        "        least_request_process = sum_request.index(min(sum_request))\n",
        "        print(f\"\\nThe process with least resource request is: {least_request_process+1}\")\n",
        "        capable_process = sum_process.index(min([sum_process[i] for i in range(N) if i > least_request_process]))\n",
        "        if least_request_process==capable_process:\n",
        "          i=0\n",
        "          index=least_request_process\n",
        "          demand_of_least_request_process=sum_request[least_request_process]\n",
        "          sum_request.pop(least_request_process)\n",
        "          capable_process = sum_request.index(min(sum_request))\n",
        "          if capable_process>=index:\n",
        "            capable_process+=1\n",
        "          print(f\"\\nThe least capable process to break deadlock is: {capable_process+1}\")\n",
        "          for i in range(M):\n",
        "            allocation[least_request_process][i] += allocation[capable_process][i]\n",
        "            request[capable_process][i]+=allocation[capable_process][i]\n",
        "            allocation[capable_process][i] = 0\n",
        "            request[least_request_process][i] = 0\n",
        "          print(\"Updated Matrix: \")\n",
        "          displayMatrices(allocation, request, N, M)\n",
        "        else:\n",
        "          print(f\"\\nThe least capable process to break deadlock is: {capable_process+1}\")\n",
        "          print(f\"\\nReleasing resources of process: {capable_process+1}\")\n",
        "          for i in range(M):\n",
        "            allocation[least_request_process][i] += allocation[capable_process][i]\n",
        "            request[capable_process][i]+=allocation[capable_process][i]\n",
        "            allocation[capable_process][i] = 0\n",
        "            request[least_request_process][i] = 0\n",
        "          print(\"Updated Matrix: \")\n",
        "          displayMatrices(allocation, request, N, M)"
      ],
      "metadata": {
        "id": "TKesRoR29pDo"
      },
      "execution_count": 3,
      "outputs": []
    },
    {
      "cell_type": "code",
      "source": [
        "def main():\n",
        "    n, m = map(int, input(\"Enter the number of processes and resources(<=10): \").split())\n",
        "    print(\"Enter the allocation matrix:\")\n",
        "    allocation = [list(map(int, input().split())) for _ in range(n)]\n",
        "    print(\"Enter the request matrix:\")\n",
        "    request = [list(map(int, input().split())) for _ in range(n)]\n",
        "    available = list(map(int, input(\"Enter the available resources:\\n\").split()))\n",
        "    #displayMatrices(allocation, request, n, m)\n",
        "    if findSafeSeq(n, m, allocation, request, available):\n",
        "        pass\n",
        "    else:\n",
        "        print(\"Deadlock detected!\")\n",
        "        resolveDeadlock(n, m, allocation, request, available)\n",
        "\n",
        "if __name__ == \"__main__\":\n",
        "    main()"
      ],
      "metadata": {
        "colab": {
          "base_uri": "https://localhost:8080/"
        },
        "id": "brbxu2y07Rgt",
        "outputId": "e2a0ad46-2440-46e8-abb1-fad3ce455858"
      },
      "execution_count": 4,
      "outputs": [
        {
          "output_type": "stream",
          "name": "stdout",
          "text": [
            "Enter the number of processes and resources(<=10): 2 2\n",
            "Enter the allocation matrix:\n",
            "1 0\n",
            "0 1\n",
            "Enter the request matrix:\n",
            "0 1\n",
            "1 0\n",
            "Enter the available resources:\n",
            "0 0\n",
            "Deadlock detected!\n",
            "\n",
            "The process with least resource request is: 1\n",
            "\n",
            "The least capable process to break deadlock is: 2\n",
            "Updated Matrix: \n",
            "\n",
            "Allocation Matrix:\n",
            "\n",
            "1 1 \n",
            "0 0 \n",
            "\n",
            "Request Matrix:\n",
            "\n",
            "0 0 \n",
            "1 1 \n"
          ]
        }
      ]
    },
    {
      "cell_type": "code",
      "source": [],
      "metadata": {
        "id": "TvvpEwagOlmO"
      },
      "execution_count": null,
      "outputs": []
    }
  ]
}